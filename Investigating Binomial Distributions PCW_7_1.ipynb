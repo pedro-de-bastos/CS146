{
  "nbformat": 4,
  "nbformat_minor": 0,
  "metadata": {
    "colab": {
      "name": "PCW 7.1.ipynb",
      "provenance": [],
      "authorship_tag": "ABX9TyP/KG7E6xW4jE+4m0+v6eGt",
      "include_colab_link": true
    },
    "kernelspec": {
      "name": "python3",
      "display_name": "Python 3"
    }
  },
  "cells": [
    {
      "cell_type": "markdown",
      "metadata": {
        "id": "view-in-github",
        "colab_type": "text"
      },
      "source": [
        "<a href=\"https://colab.research.google.com/github/pedro-de-bastos/CS146/blob/master/PCW_7_1.ipynb\" target=\"_parent\"><img src=\"https://colab.research.google.com/assets/colab-badge.svg\" alt=\"Open In Colab\"/></a>"
      ]
    },
    {
      "cell_type": "code",
      "metadata": {
        "id": "7D_8ubXrssPx"
      },
      "source": [
        "import scipy.stats as sts\n",
        "import matplotlib.pyplot as plt\n",
        "import numpy as np\n",
        "import pandas as pd"
      ],
      "execution_count": 55,
      "outputs": []
    },
    {
      "cell_type": "code",
      "metadata": {
        "id": "00JJU7JGszQP",
        "outputId": "a7e4e65c-76cf-47cc-c22d-fe25ac0345bd",
        "colab": {
          "base_uri": "https://localhost:8080/",
          "height": 282
        }
      },
      "source": [
        "x = np.linspace(0, 1000)\n",
        "\n",
        "samples = sts.binom.rvs(1000, (1/10), size=100000)/1000\n",
        "\n",
        "\n",
        "quantile = np.quantile(samples, (0.025, 0.975))\n",
        "plt.hist(samples, bins=30)\n",
        "plt.axvline(x=quantile[0], ls='--')\n",
        "plt.axvline(x=quantile[1], ls='--')\n",
        "print(\"The 95% Confidence Intervals for P are:\", quantile)"
      ],
      "execution_count": 34,
      "outputs": [
        {
          "output_type": "stream",
          "text": [
            "The 95% Confidence Intervals for P are: [0.082 0.119]\n"
          ],
          "name": "stdout"
        },
        {
          "output_type": "display_data",
          "data": {
            "image/png": "[encoded data removed]",
            "text/plain": [
              "<Figure size 432x288 with 1 Axes>"
            ]
          },
          "metadata": {
            "tags": [],
            "needs_background": "light"
          }
        }
      ]
    },
    {
      "cell_type": "markdown",
      "metadata": {
        "id": "PWWXIL0h7dzl"
      },
      "source": [
        "In this case, my approach was to sample from a binomial distribution with probabilty 1/10. The binomial is aproppriate for this situation because we are asking \"does the unit have, or does it not have, this particular attribute that typically 10% of the population has\"? By sampling 1000 units and tallying the ones that have that characteristic, and then repeating this sampling process many times, we can see how the percentage/sum converges to 10%, with a 95% quantile that is roughly 10%$\\pm$2% as shown in the histogram and output above."
      ]
    },
    {
      "cell_type": "code",
      "metadata": {
        "id": "3NHuU3US7dMe"
      },
      "source": [
        "def calc_percentiles(n, p):\n",
        "  samples = sts.binom.rvs(n, (p), size=100000)/n\n",
        "  quantile = np.quantile(samples, (0.025, 0.975))\n",
        "  diff = (quantile[0]-quantile[1])/2\n",
        "  return np.round(abs(diff), decimals=2)\n",
        "\n",
        "sample_sizes = [100, 250, 500, 750, 1000]\n",
        "sample_sizes.reverse()\n",
        "percentages = np.arange(1/10, 1, 1/10)\n",
        "\n",
        "table = {}\n",
        "\n",
        "for i in sample_sizes:\n",
        "  percents = []\n",
        "  for j in percentages:\n",
        "    percents.append(calc_percentiles(i, j))\n",
        "  table[str(i)] = percents\n",
        "\n",
        "df = pd.DataFrame(table)\n",
        "df['n/a'] = [f'Percentage near {i}' for i in range(10, 100, 10)]"
      ],
      "execution_count": 78,
      "outputs": []
    },
    {
      "cell_type": "code",
      "metadata": {
        "id": "jc5pj1-q-WI2",
        "outputId": "af6c8c06-20b5-47d6-9924-268be03c7702",
        "colab": {
          "base_uri": "https://localhost:8080/",
          "height": 314
        }
      },
      "source": [
        "cols = df.columns.tolist()\n",
        "cols = cols[-1:] + cols[0:5]\n",
        "df = df[cols]\n",
        "df\n"
      ],
      "execution_count": 79,
      "outputs": [
        {
          "output_type": "execute_result",
          "data": {
            "text/html": [
              "<div>\n",
              "<style scoped>\n",
              "    .dataframe tbody tr th:only-of-type {\n",
              "        vertical-align: middle;\n",
              "    }\n",
              "\n",
              "    .dataframe tbody tr th {\n",
              "        vertical-align: top;\n",
              "    }\n",
              "\n",
              "    .dataframe thead th {\n",
              "        text-align: right;\n",
              "    }\n",
              "</style>\n",
              "<table border=\"1\" class=\"dataframe\">\n",
              "  <thead>\n",
              "    <tr style=\"text-align: right;\">\n",
              "      <th></th>\n",
              "      <th>n/a</th>\n",
              "      <th>1000</th>\n",
              "      <th>750</th>\n",
              "      <th>500</th>\n",
              "      <th>250</th>\n",
              "      <th>100</th>\n",
              "    </tr>\n",
              "  </thead>\n",
              "  <tbody>\n",
              "    <tr>\n",
              "      <th>0</th>\n",
              "      <td>Percentage near 10</td>\n",
              "      <td>0.02</td>\n",
              "      <td>0.02</td>\n",
              "      <td>0.03</td>\n",
              "      <td>0.04</td>\n",
              "      <td>0.06</td>\n",
              "    </tr>\n",
              "    <tr>\n",
              "      <th>1</th>\n",
              "      <td>Percentage near 20</td>\n",
              "      <td>0.02</td>\n",
              "      <td>0.03</td>\n",
              "      <td>0.03</td>\n",
              "      <td>0.05</td>\n",
              "      <td>0.08</td>\n",
              "    </tr>\n",
              "    <tr>\n",
              "      <th>2</th>\n",
              "      <td>Percentage near 30</td>\n",
              "      <td>0.03</td>\n",
              "      <td>0.03</td>\n",
              "      <td>0.04</td>\n",
              "      <td>0.06</td>\n",
              "      <td>0.09</td>\n",
              "    </tr>\n",
              "    <tr>\n",
              "      <th>3</th>\n",
              "      <td>Percentage near 40</td>\n",
              "      <td>0.03</td>\n",
              "      <td>0.04</td>\n",
              "      <td>0.04</td>\n",
              "      <td>0.06</td>\n",
              "      <td>0.10</td>\n",
              "    </tr>\n",
              "    <tr>\n",
              "      <th>4</th>\n",
              "      <td>Percentage near 50</td>\n",
              "      <td>0.03</td>\n",
              "      <td>0.04</td>\n",
              "      <td>0.04</td>\n",
              "      <td>0.06</td>\n",
              "      <td>0.10</td>\n",
              "    </tr>\n",
              "    <tr>\n",
              "      <th>5</th>\n",
              "      <td>Percentage near 60</td>\n",
              "      <td>0.03</td>\n",
              "      <td>0.03</td>\n",
              "      <td>0.04</td>\n",
              "      <td>0.06</td>\n",
              "      <td>0.09</td>\n",
              "    </tr>\n",
              "    <tr>\n",
              "      <th>6</th>\n",
              "      <td>Percentage near 70</td>\n",
              "      <td>0.03</td>\n",
              "      <td>0.03</td>\n",
              "      <td>0.04</td>\n",
              "      <td>0.06</td>\n",
              "      <td>0.09</td>\n",
              "    </tr>\n",
              "    <tr>\n",
              "      <th>7</th>\n",
              "      <td>Percentage near 80</td>\n",
              "      <td>0.02</td>\n",
              "      <td>0.03</td>\n",
              "      <td>0.03</td>\n",
              "      <td>0.05</td>\n",
              "      <td>0.08</td>\n",
              "    </tr>\n",
              "    <tr>\n",
              "      <th>8</th>\n",
              "      <td>Percentage near 90</td>\n",
              "      <td>0.02</td>\n",
              "      <td>0.02</td>\n",
              "      <td>0.03</td>\n",
              "      <td>0.04</td>\n",
              "      <td>0.05</td>\n",
              "    </tr>\n",
              "  </tbody>\n",
              "</table>\n",
              "</div>"
            ],
            "text/plain": [
              "                  n/a  1000   750   500   250   100\n",
              "0  Percentage near 10  0.02  0.02  0.03  0.04  0.06\n",
              "1  Percentage near 20  0.02  0.03  0.03  0.05  0.08\n",
              "2  Percentage near 30  0.03  0.03  0.04  0.06  0.09\n",
              "3  Percentage near 40  0.03  0.04  0.04  0.06  0.10\n",
              "4  Percentage near 50  0.03  0.04  0.04  0.06  0.10\n",
              "5  Percentage near 60  0.03  0.03  0.04  0.06  0.09\n",
              "6  Percentage near 70  0.03  0.03  0.04  0.06  0.09\n",
              "7  Percentage near 80  0.02  0.03  0.03  0.05  0.08\n",
              "8  Percentage near 90  0.02  0.02  0.03  0.04  0.05"
            ]
          },
          "metadata": {
            "tags": []
          },
          "execution_count": 79
        }
      ]
    },
    {
      "cell_type": "markdown",
      "metadata": {
        "id": "_VQCbGWpBxHr"
      },
      "source": [
        "Assuming my work is correct, then the problem could have been in the rounding process, or in the definition of the percentile. The percentage values seem to be the most affected (percentage near 40, 50 or 60). "
      ]
    }
  ]
}
