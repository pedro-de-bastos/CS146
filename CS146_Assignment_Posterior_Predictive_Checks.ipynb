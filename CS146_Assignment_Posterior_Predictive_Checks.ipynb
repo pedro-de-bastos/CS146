{
  "nbformat": 4,
  "nbformat_minor": 0,
  "metadata": {
    "colab": {
      "name": "CS146 Assignment: Posterior Predictive Checks.ipynb",
      "provenance": [],
      "authorship_tag": "ABX9TyPk6vudwPAND3XTGuy2OJw9",
      "include_colab_link": true
    },
    "kernelspec": {
      "name": "python3",
      "display_name": "Python 3"
    }
  },
  "cells": [
    {
      "cell_type": "markdown",
      "metadata": {
        "id": "view-in-github",
        "colab_type": "text"
      },
      "source": [
        "<a href=\"https://colab.research.google.com/github/pedro-de-bastos/CS146/blob/master/CS146_Assignment_Posterior_Predictive_Checks.ipynb\" target=\"_parent\"><img src=\"https://colab.research.google.com/assets/colab-badge.svg\" alt=\"Open In Colab\"/></a>"
      ]
    },
    {
      "cell_type": "markdown",
      "metadata": {
        "id": "EEOJf3gLjuiw"
      },
      "source": [
        "# CS146 Assignment: Posterior Predictive Checks\n",
        "By: Pedro Martins de Bastos\n"
      ]
    },
    {
      "cell_type": "markdown",
      "metadata": {
        "id": "rfmt6vCOj0Jc"
      },
      "source": [
        "## Investigating the Posterior"
      ]
    },
    {
      "cell_type": "markdown",
      "metadata": {
        "id": "zwPDn39Kj3AK"
      },
      "source": [
        "The first step in the process of creating a predictive posterior distribution over a test statistic is to have your posterior. Below, I simply took the posterior that we were given in class and plotted it to visualize how the distribtion of $\\theta$, the probability of improvement/recovery of each patient, is modeled."
      ]
    },
    {
      "cell_type": "code",
      "metadata": {
        "colab": {
          "base_uri": "https://localhost:8080/",
          "height": 312
        },
        "id": "YYVqP05WdEWT",
        "outputId": "ca93511c-65fe-4ec9-bb6b-a5c19adc9ce5"
      },
      "source": [
        "import scipy.stats as sts\n",
        "import numpy as np\n",
        "import matplotlib.pyplot as plt\n",
        "\n",
        "x = np.linspace(0, 1, num=200)\n",
        "treat_posterior = sts.beta(108, 35)\n",
        "cont_posterior = sts.beta(58, 65)\n",
        "plt.plot(x, treat_posterior.pdf(x), color = 'r', label='Treat')\n",
        "plt.plot(x, cont_posterior.pdf(x), color = 'b', label='Control')\n",
        "plt.xlabel(\"Theta\")\n",
        "plt.ylabel(\"Frequency Density\")\n",
        "plt.title(\"Treament and Control Posterior Distributions over Theta\")\n",
        "plt.legend()"
      ],
      "execution_count": 1,
      "outputs": [
        {
          "output_type": "execute_result",
          "data": {
            "text/plain": [
              "<matplotlib.legend.Legend at 0x7f4a09e28128>"
            ]
          },
          "metadata": {
            "tags": []
          },
          "execution_count": 1
        },
        {
          "output_type": "display_data",
          "data": {
            "image/png": "[encoded data removed]",
            "text/plain": [
              "<Figure size 432x288 with 1 Axes>"
            ]
          },
          "metadata": {
            "tags": [],
            "needs_background": "light"
          }
        }
      ]
    },
    {
      "cell_type": "markdown",
      "metadata": {
        "id": "uEtZcAonkzPw"
      },
      "source": [
        "## Determining What to Sample and How to Sample It"
      ]
    },
    {
      "cell_type": "markdown",
      "metadata": {
        "id": "3ZBsRHl1k8iV"
      },
      "source": [
        "For this assignment, we are focusing on the $\\theta$ distribution for the control group. The first step in creating a predictive posterior, therefore, was to sample a value of $\\theta$ from our posterior distribution:\n",
        "\n",
        "$\\theta \\sim \\beta(58, 65)$\n",
        "\n",
        "\n",
        "Having our sample from the posterior, we can now use that sample in our likelihood function, a binomial as specified by our model. Note that the output of the binomial is the number of successful improvements, $s_i$, given a number of patients $n_i$. The binomial distribution takes in two parameters, $\\theta$ and $n_i$, but only one comes from our posterior distribution as it stands. Thus, to be able to show a histogram of the replicated number of successes (or of a test statistic calculated over these values) we need to (a) decide how many patients per simulation and (b) normalize the values so that they become comparable (we could ignore the fact that different values are being sampled from binomials with different numbers of patients, but since the distribution of patients per trial may not be symmetrical, we could be biasing our results). \n",
        "\n",
        "To decide on the values of $n_i$, we can simply use the values in the data (i.e. the number of patients for each trial, as specificed by the studies) or we can parametrize $n_i$ and sample it from a new distribution. I thought that the latter would allow for more flexibility in the model, at the expense of a little bit more complexity and uncertainty.\n",
        "\n",
        "I decided to model the number of patients in a given trial as a normal distribution, centered at 20 patients with a standard deviation of 10 patients. Furthermore, I truncated the distribution to make sure that we don't have trials with less than 5 patients or more than 50 patients. That is:\n",
        "\n",
        "$n_i \\sim N(\\mu = 20, \\sigma = 10), n_i \\in [5, 50].$\n",
        "\n",
        "Finally, we use the value of $\\theta$ we sampled, as well as the values of $n_i$, to simulate new data. \n",
        "\n",
        "$s_i \\sim Binom(n_i, \\theta)$\n",
        "\n",
        "$\\hat{\\theta} = \\frac{s_i}{n_i}$.\n",
        "\n",
        "Note that the normalized version of the number of successes, $\\hat{\\theta}$ is in fact analogous to $\\theta$ itself, since it is the simulated fraction of successful recoveries.\n",
        "\n",
        "I then transformed these simulated samples by applying the test statistic of choice, which I discuss below."
      ]
    },
    {
      "cell_type": "code",
      "metadata": {
        "id": "pXOThi5LuVPd"
      },
      "source": [
        "#Real data:\n",
        "data = [9/15, 11/18, 4/10, 21/39, 12/29, 0/10] #These are the fractions we had\n",
        "#from the real studies representing the successful recoveries over number of\n",
        "#patients\n",
        "\n",
        "def posterior_samples(test_stat, posterior, patients_mean):\n",
        "  sample_list = []\n",
        "  for i in range(10000):\n",
        "    #sampling a theta from our posterior:\n",
        "    posterior_sample = posterior.rvs() \n",
        "\n",
        "    #sampling a number of patients for a given trial:\n",
        "    patients = sts.norm.rvs(loc=patients_mean, scale=10, size=6)\n",
        "    patients = patients[np.logical_and(patients>5, patients <50)].astype(int)\n",
        "    \n",
        "    #simulating a new study based on the number of patients and the sampled \n",
        "    #theta:\n",
        "    samples = sts.binom.rvs(patients, posterior_sample)/patients\n",
        "    sample_list.append(test_stat(samples))\n",
        "  return sample_list"
      ],
      "execution_count": 15,
      "outputs": []
    },
    {
      "cell_type": "markdown",
      "metadata": {
        "id": "SxjZ2yNjuGQD"
      },
      "source": [
        "## Discussing Results and Test Statistics\n",
        "\n",
        "I experimented with a few different test statistics, as well as with how changing hyperparameters like the mean number of patients per trial change the test statistic distribution. I experimented with the range, mean, standard deviation and finally the minimum value, and I ultimately settled on the 'min' function being the most important test after visualizing the histogram of the original data and the histogram of the mean value of the simulated data, shown below:"
      ]
    },
    {
      "cell_type": "code",
      "metadata": {
        "colab": {
          "base_uri": "https://localhost:8080/",
          "height": 298
        },
        "id": "ReajrLpTu_9d",
        "outputId": "b7be248d-14a0-4379-a51d-7555ea533da1"
      },
      "source": [
        "plt.hist(data, density= True, alpha = 0.7, label=\"Original Data\")\n",
        "plt.hist(posterior_samples(np.mean, cont_posterior, 20), density=True, alpha = 0.7, label = \"Simulated Means\")\n",
        "plt.title(\"Histogram of Original Data vs. Simulated Means\")\n",
        "plt.legend()"
      ],
      "execution_count": 20,
      "outputs": [
        {
          "output_type": "execute_result",
          "data": {
            "text/plain": [
              "<matplotlib.legend.Legend at 0x7f4a06881240>"
            ]
          },
          "metadata": {
            "tags": []
          },
          "execution_count": 20
        },
        {
          "output_type": "display_data",
          "data": {
            "image/png": "[encoded data removed]",
            "text/plain": [
              "<Figure size 432x288 with 1 Axes>"
            ]
          },
          "metadata": {
            "tags": [],
            "needs_background": "light"
          }
        }
      ]
    },
    {
      "cell_type": "markdown",
      "metadata": {
        "id": "VVdsg0yUxYeG"
      },
      "source": [
        "The above result shows us that the simlated means are consistently around 0.45, but that the original values for $\\theta$ could be as small as 0. Because of the existence of this outlier, I decided to check whether the model can produce minimum results that are in line with this outlier value (i.e., how often does the model produce a minimum $\\theta$ value of 0?)"
      ]
    },
    {
      "cell_type": "code",
      "metadata": {
        "colab": {
          "base_uri": "https://localhost:8080/",
          "height": 282
        },
        "id": "MbLia8wLxXcx",
        "outputId": "93c84b37-5056-4ced-bbfd-0ad0f16157b9"
      },
      "source": [
        "#Sampling function parameters\n",
        "test_stat = np.min #the min function is very appropriate because we have a very \n",
        "#anomolous result for the data: we have one trial with 10 patients, out of \n",
        "#which 0 recovered. A good model would have to be able to explain that\n",
        "patients_mean = 20 #this was a prior I set based on knowledge of how many people\n",
        "#participate in such studies\n",
        "posterior = cont_posterior\n",
        "\n",
        "samples = posterior_samples(test_stat, posterior, patients_mean)\n",
        "quantile = np.quantile(samples, (0.025, 0.975))\n",
        "\n",
        "\n",
        "plt.hist(samples)\n",
        "plt.axvline(x=test_stat(data), color='r', label='Empirical Test Statistic')\n",
        "plt.axvline(x=quantile[0], color = 'y', ls='--', label='95% Quantile')\n",
        "plt.axvline(x=quantile[1], color = 'y', ls='--')\n",
        "\n",
        "plt.legend()\n",
        "print(f\"Your p-values is: {(sum(test_stat(data)<samples))/len(samples)}\")"
      ],
      "execution_count": 21,
      "outputs": [
        {
          "output_type": "stream",
          "text": [
            "Your p-values is: 0.9899\n"
          ],
          "name": "stdout"
        },
        {
          "output_type": "display_data",
          "data": {
            "image/png": "[encoded data removed]",
            "text/plain": [
              "<Figure size 432x288 with 1 Axes>"
            ]
          },
          "metadata": {
            "tags": [],
            "needs_background": "light"
          }
        }
      ]
    },
    {
      "cell_type": "markdown",
      "metadata": {
        "id": "nlwGqyhGyWwc"
      },
      "source": [
        "The answer to my question, as depicted by the histogram above, is that only in 0.93% of instances do we expect a test statistic with value 0, given our model. We can see from the figure above that the red line, representing the measured test statistic, is way below the 95% confidence interval boundary. This means that our non-hierarchical model is not doing well in explaining real life data, and that therefore we might have to turn to a hierarchical model, or a refinement of the existing hierarchical model, to make better predictions."
      ]
    }
  ]
}