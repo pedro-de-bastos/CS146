{
  "nbformat": 4,
  "nbformat_minor": 0,
  "metadata": {
    "kernelspec": {
      "display_name": "Python 3 (Anaconda 2020)",
      "env": {
        "ADDR2LINE": "/ext/anaconda2020.02/bin/x86_64-conda_cos6-linux-gnu-addr2line",
        "ANACONDA2019": "$EXT/anaconda-2019.03",
        "ANACONDA2020": "/ext/anaconda2020.02",
        "ANACONDA3": "$EXT/anaconda3",
        "ANACONDA5": "$EXT/anaconda5",
        "AR": "/ext/anaconda2020.02/bin/x86_64-conda_cos6-linux-gnu-ar",
        "AS": "/ext/anaconda2020.02/bin/x86_64-conda_cos6-linux-gnu-as",
        "CC": "/ext/anaconda2020.02/bin/x86_64-conda_cos6-linux-gnu-cc",
        "CFLAGS": "-march=nocona -mtune=haswell -ftree-vectorize -fPIC -fstack-protector-strong -fno-plt -O2 -ffunction-sections -pipe -isystem /ext/anaconda2020.02/include",
        "CMAKE_PREFIX_PATH": "/ext/anaconda2020.02:/ext/anaconda2020.02/x86_64-conda_cos6-linux-gnu/sysroot/usr",
        "CONDA_BACKUP_HOST": "x86_64-conda_cos6-linux-gnu",
        "CONDA_BUILD_SYSROOT": "/ext/anaconda2020.02/x86_64-conda_cos6-linux-gnu/sysroot",
        "CONDA_DEFAULT_ENV": "base",
        "CONDA_EXE": "/ext/anaconda2020.02/bin/conda",
        "CONDA_MKL_INTERFACE_LAYER_BACKUP": "",
        "CONDA_PREFIX": "/ext/anaconda2020.02",
        "CONDA_PROMPT_MODIFIER": "(base) ",
        "CONDA_PYTHON_EXE": "/ext/anaconda2020.02/bin/python",
        "CONDA_SHLVL": "1",
        "CPP": "/ext/anaconda2020.02/bin/x86_64-conda_cos6-linux-gnu-cpp",
        "CPPFLAGS": "-DNDEBUG -D_FORTIFY_SOURCE=2 -O2 -isystem /ext/anaconda2020.02/include",
        "CXX": "/ext/anaconda2020.02/bin/x86_64-conda_cos6-linux-gnu-c++",
        "CXXFILT": "/ext/anaconda2020.02/bin/x86_64-conda_cos6-linux-gnu-c++filt",
        "CXXFLAGS": "-fvisibility-inlines-hidden -std=c++17 -fmessage-length=0 -march=nocona -mtune=haswell -ftree-vectorize -fPIC -fstack-protector-strong -fno-plt -O2 -ffunction-sections -pipe -isystem /ext/anaconda2020.02/include",
        "DEBUG_CFLAGS": "-march=nocona -mtune=haswell -ftree-vectorize -fPIC -fstack-protector-all -fno-plt -Og -g -Wall -Wextra -fvar-tracking-assignments -ffunction-sections -pipe -isystem /ext/anaconda2020.02/include",
        "DEBUG_CPPFLAGS": "-D_DEBUG -D_FORTIFY_SOURCE=2 -Og -isystem /ext/anaconda2020.02/include",
        "DEBUG_CXXFLAGS": "-fvisibility-inlines-hidden -std=c++17 -fmessage-length=0 -march=nocona -mtune=haswell -ftree-vectorize -fPIC -fstack-protector-all -fno-plt -Og -g -Wall -Wextra -fvar-tracking-assignments -ffunction-sections -pipe -isystem /ext/anaconda2020.02/include",
        "DEBUG_FFLAGS": "-fopenmp -march=nocona -mtune=haswell -ftree-vectorize -fPIC -fstack-protector-strong -fno-plt -O2 -ffunction-sections -pipe -isystem /ext/anaconda2020.02/include -fopenmp -march=nocona -mtune=haswell -ftree-vectorize -fPIC -fstack-protector-all -fno-plt -Og -g -Wall -Wextra -fcheck=all -fbacktrace -fimplicit-none -fvar-tracking-assignments -ffunction-sections -pipe",
        "DEBUG_FORTRANFLAGS": "-fopenmp -march=nocona -mtune=haswell -ftree-vectorize -fPIC -fstack-protector-strong -fno-plt -O2 -ffunction-sections -pipe -isystem /ext/anaconda2020.02/include -fopenmp -march=nocona -mtune=haswell -ftree-vectorize -fPIC -fstack-protector-all -fno-plt -Og -g -Wall -Wextra -fcheck=all -fbacktrace -fimplicit-none -fvar-tracking-assignments -ffunction-sections -pipe",
        "ELFEDIT": "/ext/anaconda2020.02/bin/x86_64-conda_cos6-linux-gnu-elfedit",
        "F77": "/ext/anaconda2020.02/bin/x86_64-conda_cos6-linux-gnu-gfortran",
        "F90": "/ext/anaconda2020.02/bin/x86_64-conda_cos6-linux-gnu-gfortran",
        "F95": "/ext/anaconda2020.02/bin/x86_64-conda_cos6-linux-gnu-f95",
        "FC": "/ext/anaconda2020.02/bin/x86_64-conda_cos6-linux-gnu-gfortran",
        "FFLAGS": "-fopenmp -march=nocona -mtune=haswell -ftree-vectorize -fPIC -fstack-protector-strong -fno-plt -O2 -ffunction-sections -pipe -isystem /ext/anaconda2020.02/include",
        "FORTRANFLAGS": "-fopenmp -march=nocona -mtune=haswell -ftree-vectorize -fPIC -fstack-protector-strong -fno-plt -O2 -ffunction-sections -pipe -isystem /ext/anaconda2020.02/include",
        "GCC": "/ext/anaconda2020.02/bin/x86_64-conda_cos6-linux-gnu-gcc",
        "GCC_AR": "/ext/anaconda2020.02/bin/x86_64-conda_cos6-linux-gnu-gcc-ar",
        "GCC_NM": "/ext/anaconda2020.02/bin/x86_64-conda_cos6-linux-gnu-gcc-nm",
        "GCC_RANLIB": "/ext/anaconda2020.02/bin/x86_64-conda_cos6-linux-gnu-gcc-ranlib",
        "GDAL_DATA": "/ext/anaconda2020.02/share/gdal",
        "GFORTRAN": "/ext/anaconda2020.02/bin/x86_64-conda_cos6-linux-gnu-gfortran",
        "GPROF": "/ext/anaconda2020.02/bin/x86_64-conda_cos6-linux-gnu-gprof",
        "GXX": "/ext/anaconda2020.02/bin/x86_64-conda_cos6-linux-gnu-g++",
        "JAVA_HOME": "/ext/anaconda2020.02",
        "JAVA_HOME_CONDA_BACKUP": "",
        "JAVA_LD_LIBRARY_PATH": "/ext/anaconda2020.02/lib/server",
        "LD": "/ext/anaconda2020.02/bin/x86_64-conda_cos6-linux-gnu-ld",
        "LDFLAGS": "-Wl,-O2 -Wl,--sort-common -Wl,--as-needed -Wl,-z,relro -Wl,-z,now -Wl,--disable-new-dtags -Wl,--gc-sections -Wl,-rpath,/ext/anaconda2020.02/lib -Wl,-rpath-link,/ext/anaconda2020.02/lib -L/ext/anaconda2020.02/lib",
        "LD_GOLD": "/ext/anaconda2020.02/bin/x86_64-conda_cos6-linux-gnu-ld.gold",
        "LD_LIBRARY_PATH": "/ext/anaconda2020.02/lib",
        "MKL_INTERFACE_LAYER": "LP64,GNU",
        "MKL_THREADING_LAYER": "GNU",
        "NM": "/ext/anaconda2020.02/bin/x86_64-conda_cos6-linux-gnu-nm",
        "OBJCOPY": "/ext/anaconda2020.02/bin/x86_64-conda_cos6-linux-gnu-objcopy",
        "OBJDUMP": "/ext/anaconda2020.02/bin/x86_64-conda_cos6-linux-gnu-objdump",
        "OLDPWD": "/ext/anaconda2020.02",
        "PATH": "/ext/anaconda2020.02/bin:/ext/anaconda2020.02/bin:/ext/anaconda2020.02/condabin:/cocalc/bin:/cocalc/src/smc-project/bin:/home/salvus/bin:/home/salvus/.local/bin:/usr/lib/xpra:/ext/bin:/opt/ghc/bin:/usr/local/sbin:/usr/local/bin:/usr/sbin:/usr/bin:/sbin:/bin:/snap/bin:/usr/lib/postgresql/10/bin:/ext/data/homer/bin:/ext/data/weblogo",
        "PROJ_LIB": "/ext/anaconda2020.02/share/proj",
        "RANLIB": "/ext/anaconda2020.02/bin/x86_64-conda_cos6-linux-gnu-ranlib",
        "READELF": "/ext/anaconda2020.02/bin/x86_64-conda_cos6-linux-gnu-readelf",
        "RSTUDIO_WHICH_R": "/ext/anaconda2020.02/bin/R",
        "SIZE": "/ext/anaconda2020.02/bin/x86_64-conda_cos6-linux-gnu-size",
        "STRINGS": "/ext/anaconda2020.02/bin/x86_64-conda_cos6-linux-gnu-strings",
        "STRIP": "/ext/anaconda2020.02/bin/x86_64-conda_cos6-linux-gnu-strip",
        "_CE_CONDA": "",
        "_CE_M": "",
        "_CONDA_PYTHON_SYSCONFIGDATA_NAME": "_sysconfigdata_x86_64_conda_cos6_linux_gnu"
      },
      "language": "python",
      "metadata": {
        "cocalc": {
          "description": "Python/R distribution for data science",
          "priority": 5,
          "url": "https://www.anaconda.com/distribution/"
        }
      },
      "name": "anaconda2020"
    },
    "language_info": {
      "codemirror_mode": {
        "name": "ipython",
        "version": 3
      },
      "file_extension": ".py",
      "mimetype": "text/x-python",
      "name": "python",
      "nbconvert_exporter": "python",
      "pygments_lexer": "ipython3",
      "version": "3.7.8"
    },
    "colab": {
      "name": "pre-class-work-7.2-pedro.ipynb",
      "provenance": [],
      "include_colab_link": true
    }
  },
  "cells": [
    {
      "cell_type": "markdown",
      "metadata": {
        "id": "view-in-github",
        "colab_type": "text"
      },
      "source": [
        "<a href=\"https://colab.research.google.com/github/pedro-de-bastos/CS146/blob/master/Simulating_US_Elections_with_Stan_7_2_pedro.ipynb\" target=\"_parent\"><img src=\"https://colab.research.google.com/assets/colab-badge.svg\" alt=\"Open In Colab\"/></a>"
      ]
    },
    {
      "cell_type": "markdown",
      "metadata": {
        "collapsed": false,
        "id": "K4HtjC8i-ou4"
      },
      "source": [
        "# Modeling elections - Pedro M. De Bastos"
      ]
    },
    {
      "cell_type": "code",
      "metadata": {
        "id": "h0OXVQut-ou5"
      },
      "source": [
        "import numpy as np\n",
        "import scipy.stats as sts\n",
        "import matplotlib.pyplot as plt\n",
        "import pystan"
      ],
      "execution_count": 1,
      "outputs": []
    },
    {
      "cell_type": "markdown",
      "metadata": {
        "collapsed": false,
        "id": "hRLjwZ7m-ou-"
      },
      "source": [
        "## Data\n",
        "\n",
        "The `electoral_votes` variable is a dictionary containing the number of Electoral College votes for each state. For example\n",
        "```\n",
        "  >>> electoral_votes['Indiana']\n",
        "  11\n",
        "```\n",
        "Data from [Wikipedia: United_States_Electoral_College](https://en.wikipedia.org/wiki/United_States_Electoral_College)\n",
        "\n",
        "The `survey_results` variable is a dictionary mapping from states to an array of survey results for each candidate. Each row in a survey results array represents one survey and each column represents one candidate. There are 3 columns, representing Trump (Republican), Biden (Democrat), and Other in that order. In the example below, Trump got 340 votes in the first survey, Biden got 258, and Other got 40.\n",
        "```\n",
        "  >>> survey_results['Indiana']\n",
        "  array([[340, 258,  40],\n",
        "         [240, 155,  10],\n",
        "         [235, 155,  70],\n",
        "         [308, 266,  84],\n",
        "         [222, 161, 110]])\n",
        "```\n",
        "Data from [Wikipedia: Statewide opinion polling for the 2020 United States presidential election](https://en.wikipedia.org/wiki/Statewide_opinion_polling_for_the_2020_United_States_presidential_election)\n"
      ]
    },
    {
      "cell_type": "code",
      "metadata": {
        "id": "C0OH2ZrG-ou-",
        "outputId": "f287180e-e6e6-479c-969b-0da5d8984145",
        "colab": {
          "base_uri": "https://localhost:8080/",
          "height": 34
        }
      },
      "source": [
        "electoral_votes = {\n",
        "    'Alabama': 9,\n",
        "    'Alaska': 3,\n",
        "    'Arizona': 11,\n",
        "    'Arkansas': 6,\n",
        "    'Colorado': 9,\n",
        "}\n",
        "\n",
        "survey_results = {\n",
        "    'Alabama': np.array([[611, 397, 0, 0], [799, 528, 0, 0], [793, 403, 0, 0], [288, 264, 0, 0], [353, 219, 0, 0], [997, 554, 0, 0], [312, 232, 0, 0], [409, 227, 0, 0], [319, 234, 0, 0]]),\n",
        "    'Alaska': np.array([[348, 320, 0, 0], [298, 253, 0, 0], [283, 277, 0, 0], [269, 198, 0, 0], [227, 177, 0, 0], [442, 389, 0, 0], [519, 486, 0, 0], [325, 318, 0, 0], [84, 74, 0, 0]]),\n",
        "    'Arizona': np.array([[522, 478, 22, 0], [313, 356, 7, 7], [291, 304, 0, 0], [270, 288, 0, 0], [236, 264, 16, 0], [180, 184, 0, 0], [133, 151, 0, 0], [269, 321, 20, 0], [230, 250, 5, 0], [3337, 3621, 0, 0], [360, 392, 0, 0], [235, 235, 0, 0], [364, 396, 8, 0], [383, 409, 9, 9], [221, 216, 0, 0], [113, 128, 0, 0], [284, 278, 0, 0], [168, 212, 0, 0], [258, 270, 0, 0], [260, 266, 0, 0], [359, 402, 9, 0], [185, 202, 17, 0], [261, 320, 26, 0], [519, 584, 0, 0], [328, 342, 0, 0], [487, 520, 0, 0], [252, 312, 0, 0], [752, 768, 0, 0], [414, 441, 0, 0], [212, 230, 0, 0], [357, 398, 0, 8], [309, 378, 23, 0], [3357, 3034, 0, 0], [396, 490, 0, 0], [162, 169, 0, 0], [325, 402, 9, 9], [445, 426, 0, 0], [311, 350, 0, 0], [188, 193, 0, 0], [466, 456, 30, 0], [271, 295, 0, 0], [204, 192, 0, 0], [522, 547, 24, 12], [2547, 2348, 0, 0], [164, 172, 0, 0], [381, 445, 0, 0], [393, 428, 0, 0], [326, 395, 17, 9], [372, 413, 0, 0], [432, 470, 0, 0], [315, 343, 0, 0], [155, 176, 0, 0], [500, 500, 0, 0], [264, 294, 0, 0], [1230, 1088, 0, 0], [270, 282, 0, 0], [137, 159, 0, 0], [258, 237, 0, 0], [337, 372, 17, 9], [266, 312, 0, 0], [616, 670, 0, 0], [88, 90, 0, 0], [421, 461, 0, 0], [148, 145, 0, 0], [368, 353, 0, 0], [180, 188, 0, 0], [388, 426, 0, 0], [258, 300, 0, 0], [230, 235, 0, 0], [258, 312, 0, 0]]),\n",
        "    'Arkansas': np.array([[478, 293, 0, 0], [462, 220, 0, 0], [493, 239, 0, 0], [209, 135, 0, 0], [408, 391, 0, 0]]),\n",
        "    'Colorado': np.array([[408, 510, 0, 0], [1114, 1549, 0, 0], [283, 322, 0, 0], [320, 400, 0, 0], [312, 400, 32, 8], [978, 1359, 0, 0], [262, 325, 0, 0], [252, 306, 0, 0], [246, 307, 0, 0], [246, 306, 0, 0], [240, 312, 0, 0], [935, 1355, 0, 0], [240, 320, 0, 0], [246, 306, 0, 0], [365, 481, 0, 0], [328, 470, 0, 0], [457, 620, 0, 0], [240, 286, 0, 0], [280, 371, 0, 0], [216, 330, 0, 0], [133, 201, 0, 0]]),\n",
        "}\n",
        "\n",
        "for key, value in survey_results.items():\n",
        "    survey_results[key] = np.concatenate((value[:,:2], value[:,2:3] + value[:,3:4]), axis=1)\n",
        "\n",
        "states = sorted(survey_results.keys())\n",
        "print('Modeling', len(states), 'states with', sum(electoral_votes[s] for s in states), 'electoral college votes')"
      ],
      "execution_count": 41,
      "outputs": [
        {
          "output_type": "stream",
          "text": [
            "Modeling 5 states with 38 electoral college votes\n"
          ],
          "name": "stdout"
        }
      ]
    },
    {
      "cell_type": "markdown",
      "metadata": {
        "collapsed": false,
        "id": "cXW-b-LH-ovC"
      },
      "source": [
        "## Generative model\n",
        "\n",
        "1. For each state we generate an $\\vec{\\alpha}$ vector, which defines a Dirichlet distribution over the proportion of votes that go to each of the 3 candidates whenever we do a survey – including the final survey, namely the election itself which we want to predict. The prior over each component of $\\vec{\\alpha}$ is taken as a Cauchy distribution with location 0 and scale 1. Since the components of $\\vec{\\alpha}$ are positive, we actually use the positive half-Cauchy distribution.\n",
        "\n",
        "2. For each survey in a state we generate a probability vector $\\vec{p_i} \\sim \\text{Dirichlet}(\\vec{\\alpha})$ for the probability that a voter selects each of the 3 candidates.\n",
        "\n",
        "3. For each survey, we then generate the number of votes going to each candidate as $\\vec{k_i} \\sim \\text{Multinomial}(\\vec{p_i})$.\n",
        "\n",
        "### Tasks\n",
        "\n",
        "* Use Stan to sample from the posterior distribution over $\\alpha$ and visualize your results. There are 5 states, so you will have 5 posteriors.\n",
        "* The posteriors over $\\alpha$ show a lot of variation between different states. Explain the results you get in terms of the model and the data."
      ]
    },
    {
      "cell_type": "code",
      "metadata": {
        "id": "E7m0J2s9-ovC",
        "outputId": "69db597b-4c03-4266-8389-d3292d1d9f47",
        "colab": {
          "base_uri": "https://localhost:8080/",
          "height": 54
        }
      },
      "source": [
        "stan_code = '''\n",
        "data {\n",
        "  int <lower=0> N_survey;\n",
        "  int votes[N_survey, 3];\n",
        "}\n",
        "\n",
        "parameters {\n",
        "  vector<lower=0>[3] alpha;\n",
        "  simplex[3] theta[N_survey];\n",
        "}\n",
        "\n",
        "model {\n",
        "  alpha ~ cauchy(0, 1);\n",
        "  for (i in 1:N_survey){\n",
        "    theta[i] ~ dirichlet(alpha);\n",
        "    votes[i] ~ multinomial(theta[i]);\n",
        "  }\n",
        "}\n",
        "'''\n",
        "\n",
        "stan_model = pystan.StanModel(model_code=stan_code)"
      ],
      "execution_count": 59,
      "outputs": [
        {
          "output_type": "stream",
          "text": [
            "INFO:pystan:COMPILING THE C++ CODE FOR MODEL anon_model_8ffbbd13ab13876b60d3b56aa47f7853 NOW.\n"
          ],
          "name": "stderr"
        }
      ]
    },
    {
      "cell_type": "code",
      "metadata": {
        "id": "l0WLMrF0ZZVS",
        "outputId": "c858c4fc-752a-4e96-9825-756fec0d92ff",
        "colab": {
          "base_uri": "https://localhost:8080/",
          "height": 121
        }
      },
      "source": [
        "stan_model_sampling = stan_model.sampling(data=alabama_data)\n"
      ],
      "execution_count": 70,
      "outputs": [
        {
          "output_type": "stream",
          "text": [
            "WARNING:pystan:1408 of 4000 iterations ended with a divergence (35.2 %).\n",
            "WARNING:pystan:Try running with adapt_delta larger than 0.8 to remove the divergences.\n"
          ],
          "name": "stderr"
        },
        {
          "output_type": "execute_result",
          "data": {
            "text/plain": [
              "OrderedDict([('alpha[1]',\n",
              "              array([ 56.20980826,  51.4274081 ,  21.93576281, ..., 139.45188263,\n",
              "                      54.25533407,  14.6406654 ]))])"
            ]
          },
          "metadata": {
            "tags": []
          },
          "execution_count": 70
        }
      ]
    },
    {
      "cell_type": "code",
      "metadata": {
        "id": "PmkccyWIlMDF",
        "outputId": "b3d91fb2-4ae4-4fbf-d459-a10b0a9ee367",
        "colab": {
          "base_uri": "https://localhost:8080/",
          "height": 70
        }
      },
      "source": [
        "datas = {\"N_survey\":survey_results[\"Alabama\"].shape[0], 'votes':survey_results[\"Alabama\"]}\n",
        "stan_model_sampling = stan_model.sampling(data=datas)"
      ],
      "execution_count": 85,
      "outputs": [
        {
          "output_type": "stream",
          "text": [
            "WARNING:pystan:1474 of 4000 iterations ended with a divergence (36.9 %).\n",
            "WARNING:pystan:Try running with adapt_delta larger than 0.8 to remove the divergences.\n"
          ],
          "name": "stderr"
        }
      ]
    },
    {
      "cell_type": "code",
      "metadata": {
        "id": "oYdDfVxBlaFh",
        "outputId": "d8ece5c2-2b67-4e6d-d758-97ae0e23c8d2",
        "colab": {
          "base_uri": "https://localhost:8080/",
          "height": 34
        }
      },
      "source": [
        "alphas = stan_model_sampling.extract(\"alpha\")\n",
        "alphas['alpha'][0,:]"
      ],
      "execution_count": 90,
      "outputs": [
        {
          "output_type": "execute_result",
          "data": {
            "text/plain": [
              "array([10.10278309,  5.4251095 ,  0.08332155])"
            ]
          },
          "metadata": {
            "tags": []
          },
          "execution_count": 90
        }
      ]
    },
    {
      "cell_type": "code",
      "metadata": {
        "id": "Ym0GDVdThR7V",
        "outputId": "71a39ba2-b6c0-4ff5-bff6-a90a14cfd5c7",
        "colab": {
          "base_uri": "https://localhost:8080/",
          "height": 1000
        }
      },
      "source": [
        "datas = {}\n",
        "alphas = {}\n",
        "for i in survey_results:\n",
        "  datas[i] = {\"N_survey\":survey_results[i].shape[0], 'votes':survey_results[i]}\n",
        "  stan_model_sampling = stan_model.sampling(data=datas[i])\n",
        "  alphas[i] = stan_model_sampling.extract(\"alpha\")['alpha']\n",
        "  \n",
        "  plt.title(i)\n",
        "  plt.hist(alphas[i][:,0], alpha=0.5, label='Trump')\n",
        "  plt.hist(alphas[i][:,1], alpha=0.5, label='Biden')\n",
        "  plt.hist(alphas[i][:,2], alpha=0.5, label='Other')\n",
        "  plt.legend()\n",
        "  plt.show()"
      ],
      "execution_count": 95,
      "outputs": [
        {
          "output_type": "stream",
          "text": [
            "WARNING:pystan:1407 of 4000 iterations ended with a divergence (35.2 %).\n",
            "WARNING:pystan:Try running with adapt_delta larger than 0.8 to remove the divergences.\n"
          ],
          "name": "stderr"
        },
        {
          "output_type": "display_data",
          "data": {
            "image/png": "[encoded data removed]",
            "text/plain": [
              "<Figure size 432x288 with 1 Axes>"
            ]
          },
          "metadata": {
            "tags": [],
            "needs_background": "light"
          }
        },
        {
          "output_type": "stream",
          "text": [
            "WARNING:pystan:742 of 4000 iterations ended with a divergence (18.6 %).\n",
            "WARNING:pystan:Try running with adapt_delta larger than 0.8 to remove the divergences.\n"
          ],
          "name": "stderr"
        },
        {
          "output_type": "display_data",
          "data": {
            "image/png": "[encoded data removed]",
            "text/plain": [
              "<Figure size 432x288 with 1 Axes>"
            ]
          },
          "metadata": {
            "tags": [],
            "needs_background": "light"
          }
        },
        {
          "output_type": "stream",
          "text": [
            "WARNING:pystan:1287 of 4000 iterations ended with a divergence (32.2 %).\n",
            "WARNING:pystan:Try running with adapt_delta larger than 0.8 to remove the divergences.\n"
          ],
          "name": "stderr"
        },
        {
          "output_type": "display_data",
          "data": {
            "image/png": "[encoded data removed]",
            "text/plain": [
              "<Figure size 432x288 with 1 Axes>"
            ]
          },
          "metadata": {
            "tags": [],
            "needs_background": "light"
          }
        },
        {
          "output_type": "stream",
          "text": [
            "WARNING:pystan:1013 of 4000 iterations ended with a divergence (25.3 %).\n",
            "WARNING:pystan:Try running with adapt_delta larger than 0.8 to remove the divergences.\n"
          ],
          "name": "stderr"
        },
        {
          "output_type": "display_data",
          "data": {
            "image/png": "[encoded data removed]",
            "text/plain": [
              "<Figure size 432x288 with 1 Axes>"
            ]
          },
          "metadata": {
            "tags": [],
            "needs_background": "light"
          }
        },
        {
          "output_type": "stream",
          "text": [
            "WARNING:pystan:2319 of 4000 iterations ended with a divergence (58 %).\n",
            "WARNING:pystan:Try running with adapt_delta larger than 0.8 to remove the divergences.\n"
          ],
          "name": "stderr"
        },
        {
          "output_type": "display_data",
          "data": {
            "image/png": "[encoded data removed]",
            "text/plain": [
              "<Figure size 432x288 with 1 Axes>"
            ]
          },
          "metadata": {
            "tags": [],
            "needs_background": "light"
          }
        }
      ]
    },
    {
      "cell_type": "markdown",
      "metadata": {
        "collapsed": false,
        "id": "0iEZboEt-ovH"
      },
      "source": [
        "## Simulation time\n",
        "\n",
        "Use the posterior samples to predict the outcome of the presidential elections.\n",
        "\n",
        "* Predict the probability that each candidate will win each state.\n",
        "   * Use the posterior $\\alpha$ samples to generate posterior predictive samples for $p$ – the proportion of votes each candidate would get in each state in an election.\n",
        "   * Use these $p$ samples to estimate the probability that each candidate will win each state.\n",
        "* Predict the probability that each candidate will win the presidential election.\n",
        "   * Use the posterior predictive probability that each candidate will win each state to generate samples over the total number Electoral College votes each candidate would get in an election.\n",
        "   * Use the total number of votes to generate samples over who would win the election."
      ]
    },
    {
      "cell_type": "code",
      "metadata": {
        "id": "ljir0AAO-ovI"
      },
      "source": [
        "p={}\n",
        "for i in alphas:\n",
        "  p[i] = np.empty(alphas[i].shape)\n",
        "  for j in range(len(alphas[i])):\n",
        "    p[i][j]=(sts.dirichlet.rvs(alphas[i][j,:]))"
      ],
      "execution_count": 128,
      "outputs": []
    },
    {
      "cell_type": "code",
      "metadata": {
        "id": "s2AqIqrOopMg"
      },
      "source": [
        "import operator\n",
        "\n",
        "def win_state(p):\n",
        "  random_index = np.random.choice(p.shape[0], size=1)\n",
        "  probs = p[random_index,:]\n",
        "  return np.random.choice([\"Trump\", \"Biden\", \"Other\"], p=probs.flatten())\n",
        "\n",
        "def win_election(p):\n",
        "  overall = {\"Trump\":0, \"Biden\":0, \"Other\":0}\n",
        "  overall[win_state(p['Alabama'])] += electoral_votes['Alabama']\n",
        "  overall[win_state(p['Alaska'])] += electoral_votes['Alaska']\n",
        "  overall[win_state(p['Arkansas'])] += electoral_votes['Arkansas']\n",
        "  overall[win_state(p['Arizona'])] += electoral_votes['Arizona']\n",
        "  overall[win_state(p['Colorado'])] += electoral_votes['Colorado']\n",
        "  return max(overall.items(), key=operator.itemgetter(1))[0]"
      ],
      "execution_count": 151,
      "outputs": []
    },
    {
      "cell_type": "code",
      "metadata": {
        "id": "53jzDcKN8U-k"
      },
      "source": [
        "trump, biden, other = 0, 0, 0\n",
        "\n",
        "for i in range(2000):\n",
        "  result = win_election(p)\n",
        "  if result =='Trump':\n",
        "    trump+=1\n",
        "  elif result =='Biden':\n",
        "    biden+=1\n",
        "  else:\n",
        "    other+=1"
      ],
      "execution_count": 145,
      "outputs": []
    },
    {
      "cell_type": "code",
      "metadata": {
        "id": "piuq_sV084q8",
        "outputId": "d22cd029-b299-45bf-e114-ab37f990435f",
        "colab": {
          "base_uri": "https://localhost:8080/",
          "height": 298
        }
      },
      "source": [
        "plt.title(\"Number of Simulated Wins Per Candidate\")\n",
        "plt.bar((\"Trump\", \"Biden\", \"Other\"), (trump, biden, other))"
      ],
      "execution_count": 149,
      "outputs": [
        {
          "output_type": "execute_result",
          "data": {
            "text/plain": [
              "<BarContainer object of 3 artists>"
            ]
          },
          "metadata": {
            "tags": []
          },
          "execution_count": 149
        },
        {
          "output_type": "display_data",
          "data": {
            "image/png": "[encoded data removed]",
            "text/plain": [
              "<Figure size 432x288 with 1 Axes>"
            ]
          },
          "metadata": {
            "tags": [],
            "needs_background": "light"
          }
        }
      ]
    },
    {
      "cell_type": "code",
      "metadata": {
        "id": "GTBZKgKX9rFF",
        "outputId": "18e47508-f1a4-46b2-e513-e19efbce0efc",
        "colab": {
          "base_uri": "https://localhost:8080/",
          "height": 298
        }
      },
      "source": [
        "plt.title(\"Simulated Probability to Win Per Candidate\")\n",
        "plt.bar((\"Trump\", \"Biden\", \"Other\"), (trump/(trump+biden+other), biden/(trump+biden+other), other/(trump+biden+other)))"
      ],
      "execution_count": 150,
      "outputs": [
        {
          "output_type": "execute_result",
          "data": {
            "text/plain": [
              "<BarContainer object of 3 artists>"
            ]
          },
          "metadata": {
            "tags": []
          },
          "execution_count": 150
        },
        {
          "output_type": "display_data",
          "data": {
            "image/png": "[encoded data removed]",
            "text/plain": [
              "<Figure size 432x288 with 1 Axes>"
            ]
          },
          "metadata": {
            "tags": [],
            "needs_background": "light"
          }
        }
      ]
    }
  ]
}