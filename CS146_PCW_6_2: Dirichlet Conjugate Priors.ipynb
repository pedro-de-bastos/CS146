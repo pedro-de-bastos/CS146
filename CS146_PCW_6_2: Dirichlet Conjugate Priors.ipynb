{
  "nbformat": 4,
  "nbformat_minor": 0,
  "metadata": {
    "colab": {
      "name": "CS146 PCW 6.2.ipynb",
      "provenance": [],
      "authorship_tag": "ABX9TyPy/PS/M697QNcQBSMopTdF",
      "include_colab_link": true
    },
    "kernelspec": {
      "name": "python3",
      "display_name": "Python 3"
    }
  },
  "cells": [
    {
      "cell_type": "markdown",
      "metadata": {
        "id": "view-in-github",
        "colab_type": "text"
      },
      "source": [
        "<a href=\"https://colab.research.google.com/github/pedro-de-bastos/CS146/blob/master/CS146_PCW_6_2%3A%20Dirichlet%20Conjugate%20Priors.ipynb\" target=\"_parent\"><img src=\"https://colab.research.google.com/assets/colab-badge.svg\" alt=\"Open In Colab\"/></a>"
      ]
    },
    {
      "cell_type": "markdown",
      "metadata": {
        "id": "cUd57oCfPv4k"
      },
      "source": [
        "# Using Dirichlet Conjugate Priors"
      ]
    },
    {
      "cell_type": "code",
      "metadata": {
        "id": "51XhPguVEg9-"
      },
      "source": [
        "#Importing the data\n",
        "import pandas as pd\n",
        "import scipy.stats as stats\n",
        "import numpy as np\n",
        "import matplotlib.pyplot as plt\n",
        "\n",
        "data = pd.read_csv(\"https://gist.githubusercontent.com/cscheffler/482412b75d7b7c8ab83dd86e81d71403/raw/9ed65a9d2bb8455e4b225400f57f2d77f851aec9/socialmobility.csv\")\n",
        "\n",
        "#Defining my posterior hyperparameter according to the conjugate prior and the\n",
        "#data:\n",
        "posterior_hyper = data['count']+1"
      ],
      "execution_count": 82,
      "outputs": []
    },
    {
      "cell_type": "code",
      "metadata": {
        "id": "-eKs8yiXJ2Bx",
        "outputId": "ba543b8f-7d74-4d5f-e6c1-687f195e2b8f",
        "colab": {
          "base_uri": "https://localhost:8080/",
          "height": 521
        }
      },
      "source": [
        "data"
      ],
      "execution_count": 31,
      "outputs": [
        {
          "output_type": "execute_result",
          "data": {
            "text/html": [
              "<div>\n",
              "<style scoped>\n",
              "    .dataframe tbody tr th:only-of-type {\n",
              "        vertical-align: middle;\n",
              "    }\n",
              "\n",
              "    .dataframe tbody tr th {\n",
              "        vertical-align: top;\n",
              "    }\n",
              "\n",
              "    .dataframe thead th {\n",
              "        text-align: right;\n",
              "    }\n",
              "</style>\n",
              "<table border=\"1\" class=\"dataframe\">\n",
              "  <thead>\n",
              "    <tr style=\"text-align: right;\">\n",
              "      <th></th>\n",
              "      <th>father</th>\n",
              "      <th>son</th>\n",
              "      <th>count</th>\n",
              "    </tr>\n",
              "  </thead>\n",
              "  <tbody>\n",
              "    <tr>\n",
              "      <th>0</th>\n",
              "      <td>farm</td>\n",
              "      <td>farm</td>\n",
              "      <td>703</td>\n",
              "    </tr>\n",
              "    <tr>\n",
              "      <th>1</th>\n",
              "      <td>farm</td>\n",
              "      <td>unskilled</td>\n",
              "      <td>1478</td>\n",
              "    </tr>\n",
              "    <tr>\n",
              "      <th>2</th>\n",
              "      <td>farm</td>\n",
              "      <td>skilled</td>\n",
              "      <td>1430</td>\n",
              "    </tr>\n",
              "    <tr>\n",
              "      <th>3</th>\n",
              "      <td>farm</td>\n",
              "      <td>professional</td>\n",
              "      <td>1109</td>\n",
              "    </tr>\n",
              "    <tr>\n",
              "      <th>4</th>\n",
              "      <td>unskilled</td>\n",
              "      <td>farm</td>\n",
              "      <td>58</td>\n",
              "    </tr>\n",
              "    <tr>\n",
              "      <th>5</th>\n",
              "      <td>unskilled</td>\n",
              "      <td>unskilled</td>\n",
              "      <td>1756</td>\n",
              "    </tr>\n",
              "    <tr>\n",
              "      <th>6</th>\n",
              "      <td>unskilled</td>\n",
              "      <td>skilled</td>\n",
              "      <td>1630</td>\n",
              "    </tr>\n",
              "    <tr>\n",
              "      <th>7</th>\n",
              "      <td>unskilled</td>\n",
              "      <td>professional</td>\n",
              "      <td>1568</td>\n",
              "    </tr>\n",
              "    <tr>\n",
              "      <th>8</th>\n",
              "      <td>skilled</td>\n",
              "      <td>farm</td>\n",
              "      <td>63</td>\n",
              "    </tr>\n",
              "    <tr>\n",
              "      <th>9</th>\n",
              "      <td>skilled</td>\n",
              "      <td>unskilled</td>\n",
              "      <td>1453</td>\n",
              "    </tr>\n",
              "    <tr>\n",
              "      <th>10</th>\n",
              "      <td>skilled</td>\n",
              "      <td>skilled</td>\n",
              "      <td>2068</td>\n",
              "    </tr>\n",
              "    <tr>\n",
              "      <th>11</th>\n",
              "      <td>skilled</td>\n",
              "      <td>professional</td>\n",
              "      <td>2483</td>\n",
              "    </tr>\n",
              "    <tr>\n",
              "      <th>12</th>\n",
              "      <td>professional</td>\n",
              "      <td>farm</td>\n",
              "      <td>61</td>\n",
              "    </tr>\n",
              "    <tr>\n",
              "      <th>13</th>\n",
              "      <td>professional</td>\n",
              "      <td>unskilled</td>\n",
              "      <td>749</td>\n",
              "    </tr>\n",
              "    <tr>\n",
              "      <th>14</th>\n",
              "      <td>professional</td>\n",
              "      <td>skilled</td>\n",
              "      <td>1183</td>\n",
              "    </tr>\n",
              "    <tr>\n",
              "      <th>15</th>\n",
              "      <td>professional</td>\n",
              "      <td>professional</td>\n",
              "      <td>3315</td>\n",
              "    </tr>\n",
              "  </tbody>\n",
              "</table>\n",
              "</div>"
            ],
            "text/plain": [
              "          father           son  count\n",
              "0           farm          farm    703\n",
              "1           farm     unskilled   1478\n",
              "2           farm       skilled   1430\n",
              "3           farm  professional   1109\n",
              "4      unskilled          farm     58\n",
              "5      unskilled     unskilled   1756\n",
              "6      unskilled       skilled   1630\n",
              "7      unskilled  professional   1568\n",
              "8        skilled          farm     63\n",
              "9        skilled     unskilled   1453\n",
              "10       skilled       skilled   2068\n",
              "11       skilled  professional   2483\n",
              "12  professional          farm     61\n",
              "13  professional     unskilled    749\n",
              "14  professional       skilled   1183\n",
              "15  professional  professional   3315"
            ]
          },
          "metadata": {
            "tags": []
          },
          "execution_count": 31
        }
      ]
    },
    {
      "cell_type": "code",
      "metadata": {
        "id": "-59rVP8xHO-N",
        "outputId": "3b434ad8-92a2-423b-c164-5836be888db8",
        "colab": {
          "base_uri": "https://localhost:8080/",
          "height": 298
        }
      },
      "source": [
        "#Sampling from the posterior dirichlet distribution for probabilities\n",
        "test = stats.dirichlet.rvs(posterior_hyper, size=1000)\n",
        "\n",
        "#Computing the conditional probability\n",
        "prob_unskilled_father = np.asarray([sum(i) for i in test[:,4:8]])\n",
        "prob_skilled_son_and_unskilled_father = test[:,6]\n",
        "prob_skilled_son_given_unskilled_father = prob_skilled_son_and_unskilled_father/prob_unskilled_father\n",
        "\n",
        "#Getting and plotting the quantiles\n",
        "quantiles = np.quantile(prob_skilled_son_given_unskilled_father, [0.025, 0.975])\n",
        "print(f'95% Confidence interval is: {quantiles}')\n",
        "plt.hist(prob_skilled_son_given_unskilled_father)\n",
        "plt.axvline(x=quantiles[0], ls='--', color='y')\n",
        "plt.axvline(x=quantiles[1], ls='--', color='y')"
      ],
      "execution_count": 80,
      "outputs": [
        {
          "output_type": "stream",
          "text": [
            "95% Confidence interval is: [0.31151356 0.33815004]\n"
          ],
          "name": "stdout"
        },
        {
          "output_type": "execute_result",
          "data": {
            "text/plain": [
              "<matplotlib.lines.Line2D at 0x7fdc630e4b00>"
            ]
          },
          "metadata": {
            "tags": []
          },
          "execution_count": 80
        },
        {
          "output_type": "display_data",
          "data": {
            "image/png": "[encoded data removed]",
            "text/plain": [
              "<Figure size 432x288 with 1 Axes>"
            ]
          },
          "metadata": {
            "tags": [],
            "needs_background": "light"
          }
        }
      ]
    },
    {
      "cell_type": "code",
      "metadata": {
        "id": "4QoRs3aRNFY1",
        "outputId": "b77ec149-7300-4886-afc5-1932c1e2f3ef",
        "colab": {
          "base_uri": "https://localhost:8080/",
          "height": 301
        }
      },
      "source": [
        "#Repeating steps above for the second problem:\n",
        "\n",
        "prob_professional_son = np.asarray([sum(i) for i in test[:,[3, 7, 11, 15]]])\n",
        "prob_professional_son_farm_father = test[:,3]\n",
        "prob_farm_father_given_professional_son = prob_professional_son_farm_father/prob_professional_son\n",
        "\n",
        "quantiles = np.quantile(prob_farm_father_given_professional_son, [0.025, 0.975])\n",
        "print(f'95% Confidence interval is: {quantiles}')\n",
        "plt.hist(prob_farm_father_given_professional_son)\n",
        "plt.axvline(x=quantiles[0], ls='--', color='y')\n",
        "plt.axvline(x=quantiles[1], ls='--', color='y')"
      ],
      "execution_count": 81,
      "outputs": [
        {
          "output_type": "stream",
          "text": [
            "95% Confidence interval is: [0.12422435 0.13806519]\n"
          ],
          "name": "stdout"
        },
        {
          "output_type": "execute_result",
          "data": {
            "text/plain": [
              "<matplotlib.lines.Line2D at 0x7fdc63048ac8>"
            ]
          },
          "metadata": {
            "tags": []
          },
          "execution_count": 81
        },
        {
          "output_type": "display_data",
          "data": {
            "image/png": "[encoded data removed]",
            "text/plain": [
              "<Figure size 432x288 with 1 Axes>"
            ]
          },
          "metadata": {
            "tags": [],
            "needs_background": "light"
          }
        }
      ]
    }
  ]
}