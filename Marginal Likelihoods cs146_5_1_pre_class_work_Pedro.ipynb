{
  "nbformat": 4,
  "nbformat_minor": 0,
  "metadata": {
    "kernelspec": {
      "display_name": "Python 3 (Anaconda 5)",
      "env": {
        "LD_LIBRARY_PATH": "/ext/anaconda5/lib",
        "PROJ_LIB": "/ext/anaconda-2019.03/share/proj",
        "PYTHONHOME": "/ext/anaconda5/lib/python3.5",
        "PYTHONPATH": "/ext/anaconda5/lib/python3.5:/ext/anaconda5/lib/python3.5/site-packages"
      },
      "language": "python",
      "metadata": {
        "cocalc": {
          "description": "Python/R distribution for data science",
          "priority": -1,
          "url": "https://www.anaconda.com/distribution/"
        }
      },
      "name": "anaconda5"
    },
    "language_info": {
      "codemirror_mode": {
        "name": "ipython",
        "version": 3
      },
      "file_extension": ".py",
      "mimetype": "text/x-python",
      "name": "python",
      "nbconvert_exporter": "python",
      "pygments_lexer": "ipython3",
      "version": "3.6.7"
    },
    "colab": {
      "name": "cs146-5.1-pre-class-work-Pedro.ipynb",
      "provenance": [],
      "include_colab_link": true
    }
  },
  "cells": [
    {
      "cell_type": "markdown",
      "metadata": {
        "id": "view-in-github",
        "colab_type": "text"
      },
      "source": [
        "<a href=\"https://colab.research.google.com/github/pedro-de-bastos/CS146/blob/master/cs146_5_1_pre_class_work_Pedro.ipynb\" target=\"_parent\"><img src=\"https://colab.research.google.com/assets/colab-badge.svg\" alt=\"Open In Colab\"/></a>"
      ]
    },
    {
      "cell_type": "markdown",
      "metadata": {
        "collapsed": false,
        "id": "FzkNzfGA0GUv"
      },
      "source": [
        "# Pre-class work\n",
        "\n",
        "We consider the eczema medical trial data set again. This time we will compare which of 2 models explain the observed data best.\n",
        "\n",
        "* Model 1: All studies have the same probability of success.\n",
        "* Model 2: A hierarchical model where the probability of success in each study is drawn from a beta prior distribution with unknown $\\alpha$ and $\\beta$ parameters.\n",
        "\n",
        "\n",
        "|Study          | Treatment group |   Control group  |\n",
        "|---------------|-----------------|------------------|\n",
        "|Di Rienzo 2014 |     20 / 23     |        9 / 15    |\n",
        "|Galli 1994     |     10 / 16     |       11 / 18    |\n",
        "|Kaufman 1974   |     13 / 16     |        4 / 10    |\n",
        "|Qin 2014       |     35 / 45     |       21 / 39    |\n",
        "|Sanchez 2012   |     22 / 31     |       12 / 29    |\n",
        "|Silny 2006     |      7 / 10     |        0 / 10    |\n",
        "|**Totals**     |    107 / 141    |       57 / 121   |\n",
        "\n",
        "\n",
        "**Model 1:**\n",
        "\n",
        "* For each group (treatment and control), all 6 studies have the same fixed, but unknown, probability of success, $\\theta_t,\\theta_c\\in[0,1]$.\n",
        "* The data follow a binomial distribution in each study, conditioned on the probability of success — $\\theta_t$ for treatment or $\\theta_c$ for control.\n",
        "* The priors over $\\theta_t$ and $\\theta_c$ are uniform.\n",
        "\n",
        "These assumptions lead to the following model.\n",
        "\n",
        "* Likelihood: $\\prod_{i=1}^6 \\text{Binomial}(s_i\\,|\\,\\theta, n_i)$, where $s_i$ is the number of successful recoveries, $f_i$ is the number of failures (did not recover), and $n_i=s_i+f_i$ the number of patients.\n",
        "\n",
        "* Prior: $\\text{Beta}(\\theta\\,|\\,1,1)$ for both $\\theta_t$ and $\\theta_c$.\n",
        "\n",
        "* Posterior for treatment group: $\\text{Beta}(\\theta_t\\,|\\,108, 35)$.\n",
        "\n",
        "* Posterior for control group: $\\text{Beta}(\\theta_c\\,|\\,58, 65)$."
      ]
    },
    {
      "cell_type": "markdown",
      "metadata": {
        "collapsed": false,
        "id": "t-Z_d4oz0GUw"
      },
      "source": [
        "Since we have closed-form solutions for the posteriors, we can calculate the marginal likelihood by rearranging Bayes' equation: (marginal likelihood) = (likelihood) x (prior) / (posterior).\n",
        "\n",
        "$$ P(\\text{data}) = \\left[\\prod_{i=1}^6 \\text{Binomial}(s_i\\,|\\,\\theta, n_i) \\right] \\text{Beta}(\\theta\\,|\\,\\alpha_0,\\beta_0) \\,/\\, \\text{Beta}(\\theta\\,|\\,\\alpha_1,\\beta_1)$$\n",
        "where $\\alpha_0=1$ and $\\beta_0=1$ are the parameters of the prior, and $\\alpha_1$ and $\\beta_1$ are the parameters of the posterior beta distribution.\n",
        "\n",
        "Since all factors involving $\\theta$ cancel out, we are just left with the normalization constants of the likelihood, the prior and the posterior:\n",
        "\n",
        "$$\\begin{aligned}\n",
        "P(\\text{data})\n",
        "&= \\left[ \\prod_{i=1}^6 \\left(\\begin{array}{c}s_i+f_i \\\\ s_i\\end{array}\\right) \\right] \\frac{\\text{B}(\\alpha_1,\\beta_1)}{\\text{B}(\\alpha_0,\\beta_0)} \\\\\n",
        "&= \\left[\\prod_{i=1}^6 \\frac{1}{(s_i+f_i+1)\\text{B}(s_i+1,f_i+1)}\\right] \\frac{\\text{B}(\\alpha_1,\\beta_1)}{\\text{B}(\\alpha_0,\\beta_0)}\n",
        "\\end{aligned}$$\n",
        "\n",
        "We usually compute the log of the marginal likelihood since the results can vary over many orders of magnitude.\n",
        "\n",
        "**A word on notation** in the derivation above:\n",
        "\n",
        "* The beta _distribution_ is written as $\\text{Beta}(\\theta \\,|\\, \\alpha, \\beta)$.\n",
        "* The beta _function_ is written as $B(\\alpha,\\beta)$. $B$ is the Greek letter _capital beta_.\n",
        "* The beta function is part of the normalization constant of the beta distribution.\n",
        "\n",
        "This is similar to the gamma distribution and the gamma function, where\n",
        "\n",
        "* the distribution is written as $\\text{Gamma}(x \\,|\\, \\alpha, \\beta)$,\n",
        "* the function is written as $\\Gamma(\\alpha)$,\n",
        "* the gamma function is part of the normalization constant of the gamma distribution.\n",
        "\n",
        "**A word on simplifying the expression** in the derivation above:\n",
        "\n",
        "Just as the gamma function is related to factorials, the beta function is related to combinations:\n",
        "\n",
        "* $n! = \\Gamma(n+1)$ for integer $n$.\n",
        "* $\\binom{n}{k}=\\left((n+1)\\cdot B(n-k+1, k+1)\\right)^{-1}$\n",
        "\n",
        "The beta function can also be written in terms of the gamma function:\n",
        "\n",
        "* $B(x,y) = \\Gamma(x)\\ \\Gamma(y)\\ /\\ \\Gamma(x+y)$\n"
      ]
    },
    {
      "cell_type": "markdown",
      "metadata": {
        "collapsed": false,
        "id": "CMG_WuY10GUw"
      },
      "source": [
        "## Task 1\n",
        "\n",
        "1. Take the log of the marginal likelihood above.\n",
        "2. Complete the Python function below to calculate the log marginal likelihood.\n",
        "3. You can use the built-in function `scipy.special.betaln(a,b)` to compute $\\log \\text{B}(a,b)$."
      ]
    },
    {
      "cell_type": "code",
      "metadata": {
        "id": "WZbOwd_c0GUx",
        "outputId": "d1a55175-6a89-470e-ff8d-ac89df429933",
        "colab": {
          "base_uri": "https://localhost:8080/",
          "height": 50
        }
      },
      "source": [
        "from scipy.special import betaln\n",
        "import scipy\n",
        "\n",
        "def log_beta_binomial_marginal_likelihood(alpha0, beta0, data):\n",
        "    '''\n",
        "    Compute the log marginal likelihood of the beta-binomial model\n",
        "    for the eczema data set.\n",
        "\n",
        "    Arguments:\n",
        "\n",
        "        alpha0, beta0: prior beta distribution parameters.\n",
        "\n",
        "        data: 2 x n matrix, where n is the number of samples from\n",
        "          the binomial distribution. This means the first row contains\n",
        "          the success counts and the second row the failure counts\n",
        "          of the samples.\n",
        "    '''\n",
        "\n",
        "    # ADD YOUR CODE HERE\n",
        "    mar = 0\n",
        "    for i, j in enumerate(data):\n",
        "      mar += scipy.log(1/((j[0]+j[1]+1)*scipy.special.beta(j[0]+1, j[1]+1)))\n",
        "    return mar + scipy.special.betaln(108, 35) - scipy.special.betaln(alpha0, beta0)\n",
        "\n",
        "log_beta_binomial_marginal_likelihood(108, 35, data)\n"
      ],
      "execution_count": 9,
      "outputs": [
        {
          "output_type": "stream",
          "text": [
            "/usr/local/lib/python3.6/dist-packages/ipykernel_launcher.py:22: DeprecationWarning: scipy.log is deprecated and will be removed in SciPy 2.0.0, use numpy.lib.scimath.log instead\n"
          ],
          "name": "stderr"
        },
        {
          "output_type": "execute_result",
          "data": {
            "text/plain": [
              "66.28548466905235"
            ]
          },
          "metadata": {
            "tags": []
          },
          "execution_count": 9
        }
      ]
    },
    {
      "cell_type": "code",
      "metadata": {
        "id": "lSUiWE0X2m6f",
        "outputId": "50170d20-3301-4b52-fa7d-d4ef0a5de178",
        "colab": {
          "base_uri": "https://localhost:8080/",
          "height": 118
        }
      },
      "source": [
        "import numpy as np\n",
        "\n",
        "data = np.asarray([(20, 3), (10, 6), (13, 3), (35, 10), (22, 9), (7, 3)])\n",
        "\n",
        "for i, j in enumerate(data):\n",
        "  print(i, j)"
      ],
      "execution_count": 8,
      "outputs": [
        {
          "output_type": "stream",
          "text": [
            "0 [20  3]\n",
            "1 [10  6]\n",
            "2 [13  3]\n",
            "3 [35 10]\n",
            "4 [22  9]\n",
            "5 [7 3]\n"
          ],
          "name": "stdout"
        }
      ]
    },
    {
      "cell_type": "markdown",
      "metadata": {
        "collapsed": false,
        "id": "lA4FHczt0GU1"
      },
      "source": [
        "**Model 2:**\n",
        "\n",
        "* For each group (intervention and control), each of the 6 studies has a different probability of success.\n",
        "* Each probability of success is drawn from a beta prior with unknown parameters $\\alpha$ and $\\beta$.\n",
        "* Since $\\alpha$ and $\\beta$ are unknown, we put a broad hyperprior on them — we choose the Gamma(2, 0.5) distribution, which is shown below."
      ]
    },
    {
      "cell_type": "code",
      "metadata": {
        "id": "QR8z95gF0GU2",
        "outputId": "74434e52-36b5-4494-dde9-042cc0489aff",
        "colab": {
          "base_uri": "https://localhost:8080/",
          "height": 390
        }
      },
      "source": [
        "import matplotlib.pyplot as plt\n",
        "import numpy as np\n",
        "import scipy.stats as sts\n",
        "\n",
        "plot_x = np.linspace(0, 15, 200)\n",
        "plot_y = sts.gamma(a=2, scale=1/0.5).pdf(plot_x)\n",
        "plt.figure(figsize=(12, 6))\n",
        "plt.plot(plot_x, plot_y)\n",
        "plt.title(r'Probability density Gamma(x | α=2, β=0.5)')\n",
        "plt.show()"
      ],
      "execution_count": 10,
      "outputs": [
        {
          "output_type": "display_data",
          "data": {
            "image/png": "[encoded data removed]",
            "text/plain": [
              "<Figure size 864x432 with 1 Axes>"
            ]
          },
          "metadata": {
            "tags": [],
            "needs_background": "light"
          }
        }
      ]
    },
    {
      "cell_type": "markdown",
      "metadata": {
        "collapsed": false,
        "id": "a0vp2ZEy0GU6"
      },
      "source": [
        "These assumptions lead to the following model:\n",
        "\n",
        "* Likelihood: $\\prod_{i=1}^6 \\text{Binomial}(s_i\\,|\\,\\theta_i, n_i)$, where $s_i$ is the number of successful recoveries, $f_i$ is the number of failures (did not recover), and $n_i=s_i+f_i$ the number of patients. Note that each study has its own $\\theta_i$, whereas Model 1 had the same $\\theta$ for all 6 studies.\n",
        "\n",
        "* Prior: $\\prod_{i=1}^6 \\text{Beta}(\\theta_i\\,|\\,\\alpha,\\beta)$.\n",
        "\n",
        "* Hyperprior: $P(\\alpha,\\beta) = \\text{Gamma}(\\alpha\\,|\\,2,0.5)\\,\\text{Gamma}(\\beta\\,|\\,2,0.5)$.\n",
        "\n",
        "This model has 8 parameters (for each of the treatment and control groups), namely $\\theta_1, \\ldots, \\theta_6$, $\\alpha$, and $\\beta$."
      ]
    },
    {
      "cell_type": "markdown",
      "metadata": {
        "collapsed": false,
        "id": "z2bV9ttu0GU6"
      },
      "source": [
        "Since the posterior does not have a closed-form analytical solution, we have to calculate the marginal likelihood by integrating out all of the parameters in the model.\n",
        "\n",
        "$$ P(\\text{data}) = \\int_0^{\\infty} \\int_0^{\\infty} \\int_0^1\\cdots\\int_0^1 \\left[\\prod_{i=1}^6 \\text{Binomial}(s_i\\,|\\,\\theta_i,n_i)\\,\\text{Beta}(\\theta_i\\,|\\,\\alpha,\\beta) \\right] P(\\alpha,\\beta)\\ \\text{d}\\theta_6\\cdots\\text{d}\\theta_1\\,\\text{d}\\beta\\,\\text{d}\\alpha$$\n",
        "\n",
        "This looks like a crazy 8-dimensional integral, but we can actually integrate out the $\\theta_i$ analytically, leaving a 2-dimensional integral over $\\alpha$ and $\\beta$.\n",
        "\n",
        "First, note that $P(\\alpha,\\beta)$ does not contain $\\theta_i$, so we can move it outside of the $\\theta_i$ integrals.\n",
        "\n",
        "$$ = \\int_0^{\\infty} \\int_0^{\\infty} P(\\alpha,\\beta) {\\color{blue}{\\int_0^1\\cdots\\int_0^1 \\left[\\prod_{i=1}^6 \\text{Binomial}(s_i\\,|\\,\\theta_i,n_i)\\,\\text{Beta}(\\theta_i\\,|\\,\\alpha,\\beta) \\right] \\ \\text{d}\\theta_6\\cdots\\text{d}\\theta_1}}\\,\\text{d}\\beta\\,\\text{d}\\alpha$$\n",
        "\n",
        "Next, since there are no factors containing two different $\\theta_i$ variables, we can rearrange the integrals and the products (the blue part) like this:\n",
        "\n",
        "$$ = \\int_0^{\\infty} \\int_0^{\\infty} P(\\alpha,\\beta) {\\color{blue}{\\left[\\prod_{i=1}^6 \\int_0^1\\text{Binomial}(s_i\\,|\\,\\theta_i,n_i)\\,\\text{Beta}(\\theta_i\\,|\\,\\alpha,\\beta)\\,\\text{d}\\theta_i\\right]}}\\,\\text{d}\\beta\\,\\text{d}\\alpha$$\n",
        "\n",
        "**Note that we cannot always swap products and integrals.**\n"
      ]
    },
    {
      "cell_type": "markdown",
      "metadata": {
        "collapsed": false,
        "id": "_XySoLrX0GU7"
      },
      "source": [
        "Since the beta distribution is conjugate to the binomial, the blue integrals above can be evaluated analytically (much like we did for Model 1), to get\n",
        "\n",
        "$$ = \\int_0^{\\infty}\\int_0^{\\infty} P(\\alpha,\\beta) \\left[\\prod_{i=1}^6 \\frac{1}{(s_i+f_i+1)\\,\\text{B}(s_i+1,f_i+1)}\\,\\frac{\\text{B}(\\alpha+s_i, \\beta+f_i)}{\\text{B}(\\alpha,\\beta)}\\right]\\,\\text{d}\\beta\\,\\text{d}\\alpha$$\n",
        "\n",
        "Finally, move all the factors that do not depend on $\\alpha$ or $\\beta$ out of the integrals.\n",
        "\n",
        "$$ = \\left[\\prod_{i=1}^6 (s_i+f_i+1)\\,\\text{B}(s_i+1,f_i+1) \\right]^{-1} \\int_0^{\\infty}\\int_0^{\\infty} P(\\alpha,\\beta)\\, \\text{B}(\\alpha,\\beta)^{-6} \\prod_{i=1}^6 \\text{B}(\\alpha+s_i, \\beta+f_i)\\ \\text{d}\\beta\\,\\text{d}\\alpha$$\n",
        "\n",
        "Unfortunately we cannot evaluate the remaining integrals analytically, so we resort to a numerical calculation."
      ]
    },
    {
      "cell_type": "markdown",
      "metadata": {
        "collapsed": false,
        "id": "hYKSdYJb0GU8"
      },
      "source": [
        "## Task 2\n",
        "\n",
        "1. Write a Python function to compute the value of the integral above using the `scipy.integrate.dblquad` function.\n",
        "2. Write a Python function to compute the marginal likelihood of the hierarchical model for the medical trials data set."
      ]
    },
    {
      "cell_type": "code",
      "metadata": {
        "id": "nwLYTRO40GU8",
        "outputId": "9ab677e5-5b04-4c92-9e82-45b473cf33f2",
        "colab": {
          "base_uri": "https://localhost:8080/",
          "height": 67
        }
      },
      "source": [
        "from scipy.integrate import dblquad\n",
        "import scipy.stats\n",
        "\n",
        "# The integrand for the double integral over a (alpha) and b (beta).\n",
        "def integrand(a, b, data):\n",
        "\n",
        "    Pab = scipy.stats.gamma.pdf(a, 2, 0.5)*scipy.stats.gamma.pdf(b, 2, 0.5) #This may be where the mistake is!!!\n",
        "    Bab = scipy.special.beta(a, b)**(-6)\n",
        "    mult = 1\n",
        "    for i, j in enumerate(data):\n",
        "      mult = mult*scipy.special.beta(a+j[0], b+j[1])\n",
        "    return Pab*Bab+mult\n",
        "\n",
        "\n",
        "def hierarchical_marginal_likelihood(data):\n",
        "    prod = 1\n",
        "    def specific_integrand(a, b):\n",
        "      return integrand(a, b, data=data)\n",
        "    for i in enumerate(data):\n",
        "      prod = (j[0]+j[1]+1)*scipy.special.beta(j[0]+1, j[1]+1)\n",
        "    prod = prod**-1\n",
        "    integral = scipy.integrate.dblquad(specific_integrand, 0, 100, gfun = 0, hfun = 100)\n",
        "\n",
        "    return integral\n",
        "\n",
        "hierarchical_marginal_likelihood(data)\n"
      ],
      "execution_count": 15,
      "outputs": [
        {
          "output_type": "stream",
          "text": [
            "/usr/local/lib/python3.6/dist-packages/ipykernel_launcher.py:8: RuntimeWarning: overflow encountered in double_scalars\n",
            "  \n"
          ],
          "name": "stderr"
        },
        {
          "output_type": "execute_result",
          "data": {
            "text/plain": [
              "(inf, inf)"
            ]
          },
          "metadata": {
            "tags": []
          },
          "execution_count": 15
        }
      ]
    },
    {
      "cell_type": "code",
      "metadata": {
        "id": "g1kHVHPK9WCK"
      },
      "source": [
        ""
      ],
      "execution_count": null,
      "outputs": []
    }
  ]
}
